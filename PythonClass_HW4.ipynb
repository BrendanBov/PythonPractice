{
  "nbformat": 4,
  "nbformat_minor": 0,
  "metadata": {
    "colab": {
      "provenance": []
    },
    "kernelspec": {
      "name": "python3",
      "display_name": "Python 3"
    },
    "language_info": {
      "name": "python"
    }
  },
  "cells": [
    {
      "cell_type": "markdown",
      "source": [
        "#HW4.1"
      ],
      "metadata": {
        "id": "IhJfOlOzEcNA"
      }
    },
    {
      "cell_type": "code",
      "execution_count": null,
      "metadata": {
        "colab": {
          "base_uri": "https://localhost:8080/"
        },
        "id": "kkAAUsvqDDcF",
        "outputId": "80c0a650-0de1-44bc-bee0-5b1e3eebc0fb"
      },
      "outputs": [
        {
          "output_type": "stream",
          "name": "stdout",
          "text": [
            "[[46]]\n"
          ]
        }
      ],
      "source": [
        "import numpy as np\n",
        "\n",
        "A = np.matrix([[4,7],[1,2],[5,6]])\n",
        "B = np.matrix([[4,3,7],[1,2,7],[2,0,4]])\n",
        "C = np.matrix([[3],[6],[1]])\n",
        "D = np.matrix([[9,4,3,-6],[2,-1,7,5]])\n",
        "E = np.matrix([[1,5,8],[7,2,3],[4,0,6]])\n",
        "F = np.matrix([[3,0,1],[1,7,3]])\n",
        "G = np.matrix([[7,6,4]])\n",
        "\n",
        "#Q1\n",
        "'''print(A.shape)\n",
        "print(B.shape)\n",
        "print(C.shape)\n",
        "print(D.shape)\n",
        "print(E.shape)\n",
        "print(F.shape)\n",
        "print(G.shape)'''\n",
        "\n",
        "print(np.matmul(np.transpose(C),C))"
      ]
    },
    {
      "cell_type": "markdown",
      "source": [
        "#HW4.2"
      ],
      "metadata": {
        "id": "mVenEMITKeLF"
      }
    },
    {
      "cell_type": "code",
      "source": [
        "import numpy as np\n",
        "\n",
        "a = [[complex(3,2),4],[complex(0,-1),1]]\n",
        "b = [[complex(2,1)],[3]]\n",
        "\n",
        "Z = np.linalg.solve(a,b)\n",
        "\n",
        "#print(type(Z))"
      ],
      "metadata": {
        "colab": {
          "base_uri": "https://localhost:8080/"
        },
        "id": "glI0v6VWKfJ3",
        "outputId": "a3cebaa6-1974-4559-ffe9-339d081e8431"
      },
      "execution_count": null,
      "outputs": [
        {
          "output_type": "stream",
          "name": "stdout",
          "text": [
            "<class 'numpy.ndarray'>\n"
          ]
        }
      ]
    },
    {
      "cell_type": "markdown",
      "source": [
        "#HW4.3"
      ],
      "metadata": {
        "id": "ekranHg6OSsj"
      }
    },
    {
      "cell_type": "code",
      "source": [
        "import numpy as np\n",
        "import time\n",
        "\n",
        "def compute_flops(n):\n",
        "  if n <= 1: return 0\n",
        "  op_count = (5 * n) + ((n - 2) * 3) - 1\n",
        "  return op_count\n",
        "\n",
        "#compute_flops(2)"
      ],
      "metadata": {
        "id": "DYUkk0y4OVs9",
        "colab": {
          "base_uri": "https://localhost:8080/"
        },
        "outputId": "724857b7-10c7-47d2-d213-b1cb6d13be93"
      },
      "execution_count": null,
      "outputs": [
        {
          "output_type": "execute_result",
          "data": {
            "text/plain": [
              "9"
            ]
          },
          "metadata": {},
          "execution_count": 20
        }
      ]
    },
    {
      "cell_type": "markdown",
      "source": [
        "#HW4.4"
      ],
      "metadata": {
        "id": "NClhrHRZSz_B"
      }
    },
    {
      "cell_type": "code",
      "source": [
        "import numpy as np\n",
        "\n",
        "def back_substitution(A):\n",
        "  X = np.zeros(3)\n",
        "\n",
        "  for i in range(3 - 1, -1, -1):\n",
        "      sum_val = sum(A[i][j] * X[j] for j in range(i + 1, 3))\n",
        "      X[i] = (A[i][2] - sum_val) / A[i][i]\n",
        "\n",
        "  return list(X)\n",
        "\n",
        "'''def gaussian_elimination_with_pivoting(A_in, B_in):\n",
        "    A = np.array([np.append(A_in[0], [B_in[0]]), np.append(A_in[1], [B_in[1]]), np.append(A_in[2], [B_in[2]])])\n",
        "    for i in range(3):\n",
        "        pivot_row = i\n",
        "        for j in range(i + 1, 3):\n",
        "            if abs(A[j][i]) > abs(A[pivot_row][i]):\n",
        "                pivot_row = j\n",
        "\n",
        "        if pivot_row != i:\n",
        "            A[[i, pivot_row]] = A[[pivot_row, i]]\n",
        "\n",
        "        for j in range(i + 1, 3):\n",
        "            factor = A[j][i] / A[i][i]\n",
        "            A[j] = A[j] - factor * A[i]\n",
        "    return A#, np.linalg.det(np.array([A_in[0][0:3],A_in[1][0:3],A_in[2][0:3]]))'''\n",
        "\n",
        "def gaussian_elimination_with_pivoting(A,b):\n",
        "  n = len(A)\n",
        "  M = A\n",
        "\n",
        "  i = 0\n",
        "  for x in M:\n",
        "   x = np.append(x, b[i])\n",
        "   i += 1\n",
        "\n",
        "  for k in range(n):\n",
        "   for i in range(k, n):\n",
        "     if abs(M[i][k]) > abs(M[k][k]):\n",
        "        M[k], M[i] = M[i], M[k]\n",
        "\n",
        "   for j in range(k + 1,n):\n",
        "       q = float(M[j][k]) / M[k][k]\n",
        "       for m in range(k, n):\n",
        "          M[j][m] -=  q * M[k][m]\n",
        "\n",
        "  x = np.zeros(n)\n",
        "\n",
        "  x[n - 1] = float(M[n-1][n-1]) / M[n-1][n-1]\n",
        "  for i in range (n - 1, -1, -1):\n",
        "    z = 0\n",
        "    for j in range(i + 1, n):\n",
        "        z = z  + float(M[i][j]) * x[j]\n",
        "    x[i] = float(M[i][n-1] - z) / M[i][i]\n",
        "  return x\n",
        "\n",
        "A = np.array([[0,-3,7], [1,2,-1], [5,-2,0]])\n",
        "B = np.array([4,0,3])\n",
        "\n",
        "det_of_A = np.linalg.det(A)\n",
        "\n",
        "# Creation of A_i in Cramer's Rule\n",
        "A1 = np.array([B, A[:,1], A[:,2]])\n",
        "A2 = np.array([A[:,0], B, A[:,2]])\n",
        "A3 = np.array([A[:,0], A[:,1], B])\n",
        "A_i = np.array([A1, A2, A3])\n",
        "det_of_A_i = np.linalg.det(A_i)\n",
        "\n",
        "X = det_of_A_i / det_of_A;\n",
        "\n",
        "x_1_cramer, x_2_cramer, x_3_cramer = X\n",
        "\n",
        "aug_mat = gaussian_elimination_with_pivoting(A,B)\n",
        "eq1_1hs, eq2_1hs, eq3_1hs = back_substitution(aug_mat)\n",
        "\n",
        "print(x_1_cramer, x_2_cramer, x_3_cramer)\n",
        "print(eq1_1hs, eq2_1hs, eq3_1hs)\n"
      ],
      "metadata": {
        "id": "xxwEUd53S1mZ",
        "colab": {
          "base_uri": "https://localhost:8080/",
          "height": 412
        },
        "outputId": "8d7af802-af59-477c-fe6c-24292394fab7"
      },
      "execution_count": null,
      "outputs": [
        {
          "output_type": "stream",
          "name": "stderr",
          "text": [
            "<ipython-input-19-25085aef5ecb>:49: RuntimeWarning: invalid value encountered in divide\n",
            "  x[n - 1] = float(M[n-1][n-1]) / M[n-1][n-1]\n",
            "<ipython-input-19-25085aef5ecb>:54: RuntimeWarning: invalid value encountered in divide\n",
            "  x[i] = float(M[i][n-1] - z) / M[i][i]\n"
          ]
        },
        {
          "output_type": "error",
          "ename": "IndexError",
          "evalue": "invalid index to scalar variable.",
          "traceback": [
            "\u001b[0;31m---------------------------------------------------------------------------\u001b[0m",
            "\u001b[0;31mIndexError\u001b[0m                                Traceback (most recent call last)",
            "\u001b[0;32m<ipython-input-19-25085aef5ecb>\u001b[0m in \u001b[0;36m<cell line: 74>\u001b[0;34m()\u001b[0m\n\u001b[1;32m     72\u001b[0m \u001b[0;34m\u001b[0m\u001b[0m\n\u001b[1;32m     73\u001b[0m \u001b[0maug_mat\u001b[0m \u001b[0;34m=\u001b[0m \u001b[0mgaussian_elimination_with_pivoting\u001b[0m\u001b[0;34m(\u001b[0m\u001b[0mA\u001b[0m\u001b[0;34m,\u001b[0m\u001b[0mB\u001b[0m\u001b[0;34m)\u001b[0m\u001b[0;34m\u001b[0m\u001b[0;34m\u001b[0m\u001b[0m\n\u001b[0;32m---> 74\u001b[0;31m \u001b[0meq1_1hs\u001b[0m\u001b[0;34m,\u001b[0m \u001b[0meq2_1hs\u001b[0m\u001b[0;34m,\u001b[0m \u001b[0meq3_1hs\u001b[0m \u001b[0;34m=\u001b[0m \u001b[0mback_substitution\u001b[0m\u001b[0;34m(\u001b[0m\u001b[0maug_mat\u001b[0m\u001b[0;34m)\u001b[0m\u001b[0;34m\u001b[0m\u001b[0;34m\u001b[0m\u001b[0m\n\u001b[0m\u001b[1;32m     75\u001b[0m \u001b[0;34m\u001b[0m\u001b[0m\n\u001b[1;32m     76\u001b[0m \u001b[0mprint\u001b[0m\u001b[0;34m(\u001b[0m\u001b[0mx_1_cramer\u001b[0m\u001b[0;34m,\u001b[0m \u001b[0mx_2_cramer\u001b[0m\u001b[0;34m,\u001b[0m \u001b[0mx_3_cramer\u001b[0m\u001b[0;34m)\u001b[0m\u001b[0;34m\u001b[0m\u001b[0;34m\u001b[0m\u001b[0m\n",
            "\u001b[0;32m<ipython-input-19-25085aef5ecb>\u001b[0m in \u001b[0;36mback_substitution\u001b[0;34m(A)\u001b[0m\n\u001b[1;32m      6\u001b[0m   \u001b[0;32mfor\u001b[0m \u001b[0mi\u001b[0m \u001b[0;32min\u001b[0m \u001b[0mrange\u001b[0m\u001b[0;34m(\u001b[0m\u001b[0;36m3\u001b[0m \u001b[0;34m-\u001b[0m \u001b[0;36m1\u001b[0m\u001b[0;34m,\u001b[0m \u001b[0;34m-\u001b[0m\u001b[0;36m1\u001b[0m\u001b[0;34m,\u001b[0m \u001b[0;34m-\u001b[0m\u001b[0;36m1\u001b[0m\u001b[0;34m)\u001b[0m\u001b[0;34m:\u001b[0m\u001b[0;34m\u001b[0m\u001b[0;34m\u001b[0m\u001b[0m\n\u001b[1;32m      7\u001b[0m       \u001b[0msum_val\u001b[0m \u001b[0;34m=\u001b[0m \u001b[0msum\u001b[0m\u001b[0;34m(\u001b[0m\u001b[0mA\u001b[0m\u001b[0;34m[\u001b[0m\u001b[0mi\u001b[0m\u001b[0;34m]\u001b[0m\u001b[0;34m[\u001b[0m\u001b[0mj\u001b[0m\u001b[0;34m]\u001b[0m \u001b[0;34m*\u001b[0m \u001b[0mX\u001b[0m\u001b[0;34m[\u001b[0m\u001b[0mj\u001b[0m\u001b[0;34m]\u001b[0m \u001b[0;32mfor\u001b[0m \u001b[0mj\u001b[0m \u001b[0;32min\u001b[0m \u001b[0mrange\u001b[0m\u001b[0;34m(\u001b[0m\u001b[0mi\u001b[0m \u001b[0;34m+\u001b[0m \u001b[0;36m1\u001b[0m\u001b[0;34m,\u001b[0m \u001b[0;36m3\u001b[0m\u001b[0;34m)\u001b[0m\u001b[0;34m)\u001b[0m\u001b[0;34m\u001b[0m\u001b[0;34m\u001b[0m\u001b[0m\n\u001b[0;32m----> 8\u001b[0;31m       \u001b[0mX\u001b[0m\u001b[0;34m[\u001b[0m\u001b[0mi\u001b[0m\u001b[0;34m]\u001b[0m \u001b[0;34m=\u001b[0m \u001b[0;34m(\u001b[0m\u001b[0mA\u001b[0m\u001b[0;34m[\u001b[0m\u001b[0mi\u001b[0m\u001b[0;34m]\u001b[0m\u001b[0;34m[\u001b[0m\u001b[0;36m2\u001b[0m\u001b[0;34m]\u001b[0m \u001b[0;34m-\u001b[0m \u001b[0msum_val\u001b[0m\u001b[0;34m)\u001b[0m \u001b[0;34m/\u001b[0m \u001b[0mA\u001b[0m\u001b[0;34m[\u001b[0m\u001b[0mi\u001b[0m\u001b[0;34m]\u001b[0m\u001b[0;34m[\u001b[0m\u001b[0mi\u001b[0m\u001b[0;34m]\u001b[0m\u001b[0;34m\u001b[0m\u001b[0;34m\u001b[0m\u001b[0m\n\u001b[0m\u001b[1;32m      9\u001b[0m \u001b[0;34m\u001b[0m\u001b[0m\n\u001b[1;32m     10\u001b[0m   \u001b[0;32mreturn\u001b[0m \u001b[0mlist\u001b[0m\u001b[0;34m(\u001b[0m\u001b[0mX\u001b[0m\u001b[0;34m)\u001b[0m\u001b[0;34m\u001b[0m\u001b[0;34m\u001b[0m\u001b[0m\n",
            "\u001b[0;31mIndexError\u001b[0m: invalid index to scalar variable."
          ]
        }
      ]
    },
    {
      "cell_type": "markdown",
      "source": [
        "#HW4.5"
      ],
      "metadata": {
        "id": "JrMVJmnDGrCg"
      }
    },
    {
      "cell_type": "code",
      "source": [
        "import numpy as np\n",
        "\n",
        "def solve_tridiagonal_system(e, f, g, r):\n",
        "\n",
        "    n = len(f)\n",
        "    A = np.zeros([n])\n",
        "\n",
        "    # fwd elim\n",
        "    for k in range(1, n):\n",
        "        factor = e[k - 1] / f[k - 1]\n",
        "        f[k] = f[k] - factor * g[k - 1]\n",
        "        r[k] = r[k] - factor * r[k - 1]\n",
        "\n",
        "    # back sub\n",
        "    A[n - 1] = r[n - 1] / f[n - 1]\n",
        "    for k in range(n - 2, -1, -1):\n",
        "        A[k] = (r[k] - g[k] * A[k + 1]) / f[k]\n",
        "\n",
        "    return A\n",
        "\n",
        "'''A = [[0.8,-0.4,0],[-0.4,0.8,-0.4],[0,-0.4,0.8]]\n",
        "\n",
        "e = [-0.4,-0.4]\n",
        "f = [0.8,0.8,0.8]\n",
        "g = [-0.4,-0.4]\n",
        "r = [41,25,105]\n",
        "\n",
        "test1 = np.linalg.solve(A,r)\n",
        "test2 = solve_tridiagonal_system(e,f,g,r)\n",
        "#print(test1 == test2)'''"
      ],
      "metadata": {
        "id": "O3l7lMGqGtvr",
        "colab": {
          "base_uri": "https://localhost:8080/"
        },
        "outputId": "deaef127-9a40-4cb7-994c-ab5d8cae8a40"
      },
      "execution_count": null,
      "outputs": [
        {
          "output_type": "stream",
          "name": "stdout",
          "text": [
            "[ True  True  True]\n"
          ]
        }
      ]
    },
    {
      "cell_type": "markdown",
      "source": [
        "#HW4.6"
      ],
      "metadata": {
        "id": "Kw8QeC5eM0YG"
      }
    },
    {
      "cell_type": "code",
      "source": [
        "import numpy as np\n",
        "\n",
        "def total_flops_factorization(n):\n",
        "  flops = 0;\n",
        "  for k in range(n):\n",
        "    flops += (n - k - 1)\n",
        "    flops += 2 * (n - k - 1)**2\n",
        "  return flops\n",
        "\n",
        "def total_flops_forward_substitution(n):\n",
        "  return n**2 - n\n",
        "\n",
        "def total_flops_back_substitution(n):\n",
        "  return n**2\n",
        "\n",
        "#total_flops_factorization(5)"
      ],
      "metadata": {
        "colab": {
          "base_uri": "https://localhost:8080/"
        },
        "id": "_2YyKulWM4Gv",
        "outputId": "cf61ac67-0909-4ea2-ac7c-9438311e7ddd"
      },
      "execution_count": null,
      "outputs": [
        {
          "output_type": "execute_result",
          "data": {
            "text/plain": [
              "70"
            ]
          },
          "metadata": {},
          "execution_count": 54
        }
      ]
    },
    {
      "cell_type": "markdown",
      "source": [
        "#HW4.7"
      ],
      "metadata": {
        "id": "YRPtlrsUk9oN"
      }
    },
    {
      "cell_type": "code",
      "source": [
        "import numpy as np\n",
        "import scipy\n",
        "\n",
        "def pivot_matrix(M):\n",
        "    m = len(M)\n",
        "\n",
        "    #id_mat1 = [[float(i == j) for i in range(m)] for j in range(m)]\n",
        "    id_mat = list(np.identity(m))\n",
        "\n",
        "    for j in range(m):\n",
        "        row = max(range(j, m), key=lambda i: abs(M[i][j]))\n",
        "        if j != row:\n",
        "            id_mat[j], id_mat[row] = id_mat[row], id_mat[j]\n",
        "\n",
        "    return id_mat\n",
        "\n",
        "\n",
        "def lu_decomp(A):\n",
        "    n = len(A)\n",
        "\n",
        "    L = list(np.zeros((n,n)))\n",
        "    U = list(np.zeros((n,n)))\n",
        "\n",
        "    P = pivot_matrix(A)\n",
        "    PA = np.matmul(P, A)\n",
        "\n",
        "    for j in range(n):\n",
        "        L[j][j] = 1.0\n",
        "\n",
        "        for i in range(j+1):\n",
        "            s1 = sum(U[k][j] * L[i][k] for k in range(i))\n",
        "            U[i][j] = PA[i][j] - s1\n",
        "\n",
        "        for i in range(j, n):\n",
        "            s2 = sum(U[k][j] * L[i][k] for k in range(j))\n",
        "            L[i][j] = (PA[i][j] - s2) / U[j][j]\n",
        "\n",
        "    return L, U\n",
        "\n",
        "def solve_lu_factorization_with_pivoting(A,b):\n",
        "\n",
        "  L,U = lu_decomp(A)\n",
        "  n = len(b)\n",
        "\n",
        "  det = 1\n",
        "  for i in range(n):  #multiply diagonals\n",
        "    det *= L[i][i] * U[i][i]\n",
        "\n",
        "  # fwd sub\n",
        "  Y = np.zeros(n)\n",
        "  for i in range(n):\n",
        "    row = L[i]\n",
        "    temp = sum([row[j] * Y[j] for j in range(i)])\n",
        "    Y[i] = (b[i] - temp) / row[i]\n",
        "\n",
        "  # bwd sub\n",
        "  X = np.zeros(n)\n",
        "  for i in range(n - 1, -1, -1):\n",
        "    row = U[i]\n",
        "    temp = sum([row[j] * X[j] for j in range(n - 1, i, -1)])\n",
        "    X[i] = (Y[i] - temp) / row[i]\n",
        "    #break\n",
        "\n",
        "  return X\n",
        "\n",
        "\n",
        "#testing\n",
        "A = [[2,-6,-1],[-3,-1,7],[-8,1,-2]]\n",
        "b = [-38,-34,-40]\n",
        "#L, U =  lu_decomp\n",
        "tP, tL, tU = scipy.linalg.lu(A)\n",
        "control = np.linalg.solve(A,b)\n",
        "test = solve_lu_factorization_with_pivoting(A,b)\n",
        "x_1, x_2, x_3 = test\n",
        "print(control)\n",
        "print(test)\n"
      ],
      "metadata": {
        "id": "GKdnODZ5k_dN",
        "colab": {
          "base_uri": "https://localhost:8080/"
        },
        "outputId": "6e14526b-8265-4d97-b6dd-f8da671db0e6"
      },
      "execution_count": null,
      "outputs": [
        {
          "output_type": "stream",
          "name": "stdout",
          "text": [
            "[ 6.30563003  8.58981233 -0.92761394]\n",
            "[ 6.10187668  8.86327078 -0.97587131]\n"
          ]
        }
      ]
    },
    {
      "cell_type": "markdown",
      "source": [
        "#HW4.8"
      ],
      "metadata": {
        "id": "mWTen-x7LFQh"
      }
    },
    {
      "cell_type": "code",
      "source": [
        "import numpy as np\n",
        "\n",
        "def lu_solve(L,U,b):\n",
        "\n",
        "  n = len(b)\n",
        "\n",
        "  det = 1\n",
        "  for i in range(n):  #multiply diagonals\n",
        "    det *= L[i][i] * U[i][i]\n",
        "\n",
        "  # fwd sub\n",
        "  Y = np.zeros(n)\n",
        "  for i in range(n):\n",
        "    row = L[i]\n",
        "    temp = sum([row[j] * Y[j] for j in range(i)])\n",
        "    Y[i] = (b[i] - temp) / row[i]\n",
        "\n",
        "  # bwd sub\n",
        "  X = np.zeros(n)\n",
        "  for i in range(n - 1, -1, -1):\n",
        "    row = U[i]\n",
        "    temp = sum([row[j] * X[j] for j in range(n - 1, i, -1)])\n",
        "    X[i] = (Y[i] - temp) / row[i]\n",
        "    #break\n",
        "\n",
        "  return det, X[0], X[1], X[2]\n",
        "\n",
        "#X = lu_solve([[1,0,0],[2,1,0],[-1,-3,1]],[[7,-2,1],[0,-3,-5],[0,0,4]],[12,17,5])\n",
        "#print(X)"
      ],
      "metadata": {
        "id": "-QvyqeT7LIvU"
      },
      "execution_count": null,
      "outputs": []
    }
  ]
}